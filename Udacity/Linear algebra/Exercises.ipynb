{
 "cells": [
  {
   "cell_type": "markdown",
   "metadata": {},
   "source": [
    "# Solutions"
   ]
  },
  {
   "cell_type": "code",
   "execution_count": 14,
   "metadata": {
    "collapsed": true
   },
   "outputs": [],
   "source": [
    "import math\n",
    "import numpy"
   ]
  },
  {
   "cell_type": "code",
   "execution_count": 15,
   "metadata": {},
   "outputs": [
    {
     "name": "stdout",
     "output_type": "stream",
     "text": [
      "[7.089, -7.229999999999999]\n",
      "[15.342, 7.337]\n",
      "[12.38211, -7.49892, -2.35638]\n"
     ]
    }
   ],
   "source": [
    "def sum(v, w):\n",
    "    return [vi + wi for vi, wi in zip(v, w)]\n",
    "\n",
    "def dif(v, w):\n",
    "    return [vi - wi for vi, wi in zip(v, w)]\n",
    "\n",
    "def mul(k, v):\n",
    "    return [vi * k  for vi in v]\n",
    "\n",
    "print(sum([8.218, -9.341], [-1.129, 2.111]))\n",
    "print(dif([7.119, 8.215], [-8.223, 0.878]))\n",
    "print(mul(7.41, [1.671, -1.012, -0.318]))"
   ]
  },
  {
   "cell_type": "code",
   "execution_count": 19,
   "metadata": {},
   "outputs": [
    {
     "name": "stdout",
     "output_type": "stream",
     "text": [
      "7.440282924728065\n",
      "10.884187567292289\n"
     ]
    }
   ],
   "source": [
    "def magnitude(v):\n",
    "    v_squared = [vi ** 2  for vi in v] #we compute the square or every component of vector\n",
    "    return math.sqrt(numpy.sum(v_squared))\n",
    "\n",
    "print(magnitude([-0.221, 7.437]))\n",
    "print(magnitude([8.813, -1.331, -6.247]))"
   ]
  },
  {
   "cell_type": "code",
   "execution_count": 21,
   "metadata": {},
   "outputs": [
    {
     "name": "stdout",
     "output_type": "stream",
     "text": [
      "[0.9339352140866403, -0.35744232526233]\n",
      "[0.3404012959433014, 0.5300437012984873, -0.7766470449528029]\n"
     ]
    }
   ],
   "source": [
    "def dirrection(v):\n",
    "    v_1 = 1 / magnitude(v)\n",
    "    return [v_1 * vi  for vi in v]\n",
    "\n",
    "print(dirrection([5.581, -2.136]))\n",
    "print(dirrection([1.996, 3.108, -4.554]))"
   ]
  },
  {
   "cell_type": "code",
   "execution_count": null,
   "metadata": {
    "collapsed": true
   },
   "outputs": [],
   "source": []
  }
 ],
 "metadata": {
  "kernelspec": {
   "display_name": "Python 3",
   "language": "python",
   "name": "python3"
  },
  "language_info": {
   "codemirror_mode": {
    "name": "ipython",
    "version": 3
   },
   "file_extension": ".py",
   "mimetype": "text/x-python",
   "name": "python",
   "nbconvert_exporter": "python",
   "pygments_lexer": "ipython3",
   "version": "3.6.5"
  }
 },
 "nbformat": 4,
 "nbformat_minor": 2
}
