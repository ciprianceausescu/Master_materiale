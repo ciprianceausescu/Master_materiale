{
 "cells": [
  {
   "cell_type": "code",
   "execution_count": 4,
   "metadata": {},
   "outputs": [
    {
     "data": {
      "text/plain": [
       "[0, 1, 1, 0, 1, 0, 1, 1, 1, 1, 0, 0, 0, 1, 0, 0]"
      ]
     },
     "execution_count": 4,
     "metadata": {},
     "output_type": "execute_result"
    }
   ],
   "source": [
    "import itertools\n",
    "\n",
    "def lsfr(seed, polynom):\n",
    "    data = seed\n",
    "    poly = polynom\n",
    "\n",
    "    while 1:\n",
    "        lsb = data & 1\n",
    "        data = data >> 1\n",
    "        if lsb != 0:\n",
    "            data = data ^ poly\n",
    "            yield 1\n",
    "        else:\n",
    "            yield 0\n",
    "            \n",
    "x = lsfr(0b0110, 0b1100)\n",
    "list(itertools.islice(x, 16))"
   ]
  }
 ],
 "metadata": {
  "kernelspec": {
   "display_name": "Python 3",
   "language": "python",
   "name": "python3"
  },
  "language_info": {
   "codemirror_mode": {
    "name": "ipython",
    "version": 3
   },
   "file_extension": ".py",
   "mimetype": "text/x-python",
   "name": "python",
   "nbconvert_exporter": "python",
   "pygments_lexer": "ipython3",
   "version": "3.6.5"
  }
 },
 "nbformat": 4,
 "nbformat_minor": 2
}
