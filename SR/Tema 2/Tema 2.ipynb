{
 "cells": [
  {
   "cell_type": "code",
   "execution_count": 55,
   "metadata": {
    "collapsed": true
   },
   "outputs": [],
   "source": [
    "from random import randint\n",
    "\n",
    "def is_prime(num, test_count):\n",
    "    if num == 1:\n",
    "        return False\n",
    "    if test_count >= num:\n",
    "        test_count = num - 1\n",
    "    for x in range(test_count):\n",
    "        val = randint(1, num - 1)\n",
    "        if pow(val, num-1, num) != 1:\n",
    "            return False\n",
    "    return True\n",
    "\n",
    "def generate_big_prime(n):\n",
    "    found_prime = False\n",
    "    while not found_prime:\n",
    "        p = randint(2**(n-1), 2**n)\n",
    "        if is_prime(p, 1000):\n",
    "            return p"
   ]
  },
  {
   "cell_type": "code",
   "execution_count": 56,
   "metadata": {
    "collapsed": true
   },
   "outputs": [],
   "source": [
    "p = generate_big_prime(1024)"
   ]
  },
  {
   "cell_type": "markdown",
   "metadata": {},
   "source": [
    "### Numărul p determinat este:"
   ]
  },
  {
   "cell_type": "code",
   "execution_count": 57,
   "metadata": {},
   "outputs": [
    {
     "name": "stdout",
     "output_type": "stream",
     "text": [
      "99537382385576094936723269437961267171051050246035137264739404523065547985714085734853629568180032528018930314164653621844004516464602061678080819049359879310886625789147267300628200855625625482346272306141716366203912361538478751592864391963466151777783118013256328352624114230482960248893106016855602301677\n"
     ]
    }
   ],
   "source": [
    "print(p)"
   ]
  },
  {
   "cell_type": "markdown",
   "metadata": {},
   "source": [
    "### Verificarea primalității numerelor determinate se face folosind următoarea funcție"
   ]
  },
  {
   "cell_type": "code",
   "execution_count": 58,
   "metadata": {
    "collapsed": true
   },
   "outputs": [],
   "source": [
    "import random\n",
    "\n",
    "def test_primality(n):\n",
    "    for i in range(10):\n",
    "        if pow(random.randrange(1, n), n - 1, n) != 1:\n",
    "            return False\n",
    "    return True"
   ]
  },
  {
   "cell_type": "markdown",
   "metadata": {},
   "source": [
    "### Verificarea primalității lui p"
   ]
  },
  {
   "cell_type": "code",
   "execution_count": 59,
   "metadata": {},
   "outputs": [
    {
     "name": "stdout",
     "output_type": "stream",
     "text": [
      "True\n"
     ]
    }
   ],
   "source": [
    "print(test_primality(p))"
   ]
  },
  {
   "cell_type": "markdown",
   "metadata": {},
   "source": [
    "### Generarea numărului $q = \\alpha p + 1$ "
   ]
  },
  {
   "cell_type": "code",
   "execution_count": 60,
   "metadata": {
    "collapsed": true
   },
   "outputs": [],
   "source": [
    "for i in range(1,1000):\n",
    "    q = i * p + 1\n",
    "    if(test_primality(q)):\n",
    "        break "
   ]
  },
  {
   "cell_type": "markdown",
   "metadata": {},
   "source": [
    "### Numărul p determinat este:"
   ]
  },
  {
   "cell_type": "code",
   "execution_count": 61,
   "metadata": {},
   "outputs": [
    {
     "name": "stdout",
     "output_type": "stream",
     "text": [
      "30259364245215132860763873909140225219999519274794681728480778975011926587657082063395503388726729888517754815506054701040577373005239026750136568991005403310509534239900769259390973060110190146633266781067081775325989357907697540484230775156893710140446067876029923819197730726066819915663504229124103099709809\n"
     ]
    }
   ],
   "source": [
    "print(q)                "
   ]
  },
  {
   "cell_type": "markdown",
   "metadata": {},
   "source": [
    "### Verificarea primalității lui q"
   ]
  },
  {
   "cell_type": "code",
   "execution_count": 62,
   "metadata": {},
   "outputs": [
    {
     "data": {
      "text/plain": [
       "True"
      ]
     },
     "execution_count": 62,
     "metadata": {},
     "output_type": "execute_result"
    }
   ],
   "source": [
    "test_primality(q)"
   ]
  },
  {
   "cell_type": "markdown",
   "metadata": {},
   "source": [
    "### Verificarea proprietății ca $(q-1)$ să fie multiplu de $p$"
   ]
  },
  {
   "cell_type": "code",
   "execution_count": 64,
   "metadata": {},
   "outputs": [
    {
     "name": "stdout",
     "output_type": "stream",
     "text": [
      "True\n"
     ]
    }
   ],
   "source": [
    "print((q-1)%p==0)"
   ]
  },
  {
   "cell_type": "markdown",
   "metadata": {},
   "source": [
    "### $g$ in range $(1,q)$.\n",
    "\n",
    "### $x$ in range $(1,q-1)$. \n",
    "\n",
    "### $g^x=y$ (mod p)"
   ]
  },
  {
   "cell_type": "code",
   "execution_count": 1,
   "metadata": {
    "collapsed": true
   },
   "outputs": [],
   "source": [
    "p = 99537382385576094936723269437961267171051050246035137264739404523065547985714085734853629568180032528018930314164653621844004516464602061678080819049359879310886625789147267300628200855625625482346272306141716366203912361538478751592864391963466151777783118013256328352624114230482960248893106016855602301677\n",
    "\n",
    "q = 30259364245215132860763873909140225219999519274794681728480778975011926587657082063395503388726729888517754815506054701040577373005239026750136568991005403310509534239900769259390973060110190146633266781067081775325989357907697540484230775156893710140446067876029923819197730726066819915663504229124103099709809\n",
    "\n",
    "g = 3\n",
    "\n",
    "y = 18801127259564064830322415115813696439899567930068971208750016572980284705755521365949555993512038252048530028523570865604375830596362125649318677646034393970765384054881991605241904477653515968123983186349462877814983314983756590352825722945564071130927498580495555438617070650336213362496342578419663459229691"
   ]
  },
  {
   "cell_type": "code",
   "execution_count": null,
   "metadata": {
    "collapsed": true
   },
   "outputs": [],
   "source": []
  }
 ],
 "metadata": {
  "kernelspec": {
   "display_name": "Python 3",
   "language": "python",
   "name": "python3"
  },
  "language_info": {
   "codemirror_mode": {
    "name": "ipython",
    "version": 3
   },
   "file_extension": ".py",
   "mimetype": "text/x-python",
   "name": "python",
   "nbconvert_exporter": "python",
   "pygments_lexer": "ipython3",
   "version": "3.6.5"
  }
 },
 "nbformat": 4,
 "nbformat_minor": 2
}
