{
 "cells": [
  {
   "cell_type": "code",
   "execution_count": 55,
   "metadata": {
    "collapsed": true
   },
   "outputs": [],
   "source": [
    "from random import randint\n",
    "\n",
    "def is_prime(num, test_count):\n",
    "    if num == 1:\n",
    "        return False\n",
    "    if test_count >= num:\n",
    "        test_count = num - 1\n",
    "    for x in range(test_count):\n",
    "        val = randint(1, num - 1)\n",
    "        if pow(val, num-1, num) != 1:\n",
    "            return False\n",
    "    return True\n",
    "\n",
    "def generate_big_prime(n):\n",
    "    found_prime = False\n",
    "    while not found_prime:\n",
    "        p = randint(2**(n-1), 2**n)\n",
    "        if is_prime(p, 1000):\n",
    "            return p"
   ]
  },
  {
   "cell_type": "code",
   "execution_count": 56,
   "metadata": {
    "collapsed": true
   },
   "outputs": [],
   "source": [
    "p = generate_big_prime(1024)"
   ]
  },
  {
   "cell_type": "markdown",
   "metadata": {},
   "source": [
    "### Numărul p determinat este:"
   ]
  },
  {
   "cell_type": "code",
   "execution_count": 57,
   "metadata": {},
   "outputs": [
    {
     "name": "stdout",
     "output_type": "stream",
     "text": [
      "99537382385576094936723269437961267171051050246035137264739404523065547985714085734853629568180032528018930314164653621844004516464602061678080819049359879310886625789147267300628200855625625482346272306141716366203912361538478751592864391963466151777783118013256328352624114230482960248893106016855602301677\n"
     ]
    }
   ],
   "source": [
    "print(p)"
   ]
  },
  {
   "cell_type": "markdown",
   "metadata": {},
   "source": [
    "### Verificarea primalității numerelor determinate se face folosind următoarea funcție"
   ]
  },
  {
   "cell_type": "code",
   "execution_count": 58,
   "metadata": {
    "collapsed": true
   },
   "outputs": [],
   "source": [
    "import random\n",
    "\n",
    "def test_primality(n):\n",
    "    for i in range(10):\n",
    "        if pow(random.randrange(1, n), n - 1, n) != 1:\n",
    "            return False\n",
    "    return True"
   ]
  },
  {
   "cell_type": "markdown",
   "metadata": {},
   "source": [
    "### Verificarea primalității lui p"
   ]
  },
  {
   "cell_type": "code",
   "execution_count": 59,
   "metadata": {},
   "outputs": [
    {
     "name": "stdout",
     "output_type": "stream",
     "text": [
      "True\n"
     ]
    }
   ],
   "source": [
    "print(test_primality(p))"
   ]
  },
  {
   "cell_type": "markdown",
   "metadata": {},
   "source": [
    "### Generarea numărului $q = \\alpha p + 1$ "
   ]
  },
  {
   "cell_type": "code",
   "execution_count": 60,
   "metadata": {
    "collapsed": true
   },
   "outputs": [],
   "source": [
    "for i in range(1,1000):\n",
    "    q = i * p + 1\n",
    "    if(test_primality(q)):\n",
    "        break "
   ]
  },
  {
   "cell_type": "markdown",
   "metadata": {},
   "source": [
    "### Numărul p determinat este:"
   ]
  },
  {
   "cell_type": "code",
   "execution_count": 61,
   "metadata": {},
   "outputs": [
    {
     "name": "stdout",
     "output_type": "stream",
     "text": [
      "30259364245215132860763873909140225219999519274794681728480778975011926587657082063395503388726729888517754815506054701040577373005239026750136568991005403310509534239900769259390973060110190146633266781067081775325989357907697540484230775156893710140446067876029923819197730726066819915663504229124103099709809\n"
     ]
    }
   ],
   "source": [
    "print(q)                "
   ]
  },
  {
   "cell_type": "markdown",
   "metadata": {},
   "source": [
    "### Verificarea primalității lui q"
   ]
  },
  {
   "cell_type": "code",
   "execution_count": 62,
   "metadata": {},
   "outputs": [
    {
     "data": {
      "text/plain": [
       "True"
      ]
     },
     "execution_count": 62,
     "metadata": {},
     "output_type": "execute_result"
    }
   ],
   "source": [
    "test_primality(q)"
   ]
  },
  {
   "cell_type": "markdown",
   "metadata": {},
   "source": [
    "### Verificarea proprietății ca $(q-1)$ să fie multiplu de $p$"
   ]
  },
  {
   "cell_type": "code",
   "execution_count": 64,
   "metadata": {},
   "outputs": [
    {
     "name": "stdout",
     "output_type": "stream",
     "text": [
      "True\n"
     ]
    }
   ],
   "source": [
    "print((q-1)%p==0)"
   ]
  },
  {
   "cell_type": "markdown",
   "metadata": {},
   "source": [
    "### $g$ in range $(1,q)$.\n",
    "\n",
    "### $x$ in range $(1,q-1)$. \n",
    "\n",
    "### $g^x=y$ (mod p)"
   ]
  },
  {
   "cell_type": "code",
   "execution_count": 68,
   "metadata": {
    "collapsed": true
   },
   "outputs": [],
   "source": [
    "p = 99537382385576094936723269437961267171051050246035137264739404523065547985714085734853629568180032528018930314164653621844004516464602061678080819049359879310886625789147267300628200855625625482346272306141716366203912361538478751592864391963466151777783118013256328352624114230482960248893106016855602301677\n",
    "\n",
    "q = 30259364245215132860763873909140225219999519274794681728480778975011926587657082063395503388726729888517754815506054701040577373005239026750136568991005403310509534239900769259390973060110190146633266781067081775325989357907697540484230775156893710140446067876029923819197730726066819915663504229124103099709809\n",
    "\n",
    "g = 3\n",
    "\n",
    "y = 18801127259564064830322415115813696439899567930068971208750016572980284705755521365949555993512038252048530028523570865604375830596362125649318677646034393970765384054881991605241904477653515968123983186349462877814983314983756590352825722945564071130927498580495555438617070650336213362496342578419663459229691"
   ]
  },
  {
   "cell_type": "code",
   "execution_count": 8,
   "metadata": {},
   "outputs": [
    {
     "name": "stdout",
     "output_type": "stream",
     "text": [
      "\n",
      "Press CTRL + C to exit\n",
      "\n",
      "==========================================================================================\n",
      "Pohling-Hellman's algorithm for descrete logartihm\n",
      "Formula : h ≡ g^x (mod p)\n",
      "==========================================================================================\n",
      "\n",
      "\n",
      "\n",
      "\n",
      "------------------------------------------------------------------------------------------\n",
      " Solving 12 ≡ 13^x (mod 14)\n",
      "------------------------------------------------------------------------------------------\n",
      " q   | e   | g^((p-1)/q^e) | h^((p-1)/q^e) | Solve (g^((p-1)/q^e))^x = h^((p-1)/q^e) for x\n",
      "------------------------------------------------------------------------------------------\n",
      " The congruence 12 ≡ 13^x (mod 14) has no solution \n",
      "------------------------------------------------------------------------------------------\n",
      "\n",
      "\n"
     ]
    }
   ],
   "source": [
    "# coding: utf-8\n",
    "from math import sqrt, ceil\n",
    "\n",
    "def PrimeFactorization(p):\n",
    "    \"\"\"Find all prime factors of the number p\"\"\"\n",
    "    d, primeFactors = 2, []\n",
    "    while d*d <= p:\n",
    "        while (p % d) == 0:\n",
    "            primeFactors.append(d)\n",
    "            p //= d\n",
    "        d += 1\n",
    "    if p > 1:\n",
    "       primeFactors.append(p)\n",
    "    return primeFactors\n",
    "\n",
    "def CountOccurences(primeFactors):\n",
    "    \"\"\"Count occurances of each prime factor\"\"\"\n",
    "    return [[x, primeFactors.count(x)] for x in set(primeFactors)]\n",
    "\n",
    "def ExtendedGCD(a, b):\n",
    "    \"\"\"Extended Euclidian algorithm for finding GCD\"\"\"\n",
    "    a2, a1 = 1, 0\n",
    "    b2, b1 = 0, 1\n",
    "    while b:\n",
    "        q, r = divmod(a, b)\n",
    "        a1, a2 = a2 - q * a1, a1\n",
    "        b1, b2 = b2 - q * b1, b1\n",
    "        a, b = b, r\n",
    "    return a, a2, b2\n",
    "\n",
    "def ModularInverse(b, n):\n",
    "    \"\"\"Return x s.t. x ≡ a^(-1) (mod n)\"\"\"\n",
    "    g, x, _ = ExtendedGCD(b, n)\n",
    "    if g == 1:\n",
    "        return x % n\n",
    "\n",
    "def ChineseRemainder(pairs):\n",
    "    \"\"\"Chinese remainder theorem for solving a system of congruences\"\"\"\n",
    "    N, X = pairs[0][1], 0\n",
    "    for ni in pairs[1:]:\n",
    "        N *= ni[1]\n",
    "    for (ai, ni) in pairs:\n",
    "        mi = (N / ni)\n",
    "        X += mi * ai * ExtendedGCD(mi, ni)[1]\n",
    "    return X % N\n",
    "\n",
    "def ShanksAlgorithm(alpha, beta, n):\n",
    "    \"\"\"Return x s.t. beta ≡ alpha^(x) (mod n)\"\"\"\n",
    "    m = int(ceil(sqrt(n - 1)))\n",
    "    a = pow(alpha, m, n)\n",
    "    b = ExtendedGCD(alpha, n)[1]\n",
    "    L1 = [(j, pow(a, j, n)) for j in range(0, m)]\n",
    "    L2 = [(i, beta * (b ** i) % n) for i in range(0, m)]\n",
    "    L1.sort(key = lambda tup: tup[1])\n",
    "    L2.sort(key = lambda tup: tup[1])\n",
    "    i, j, Found = 0, 0, False\n",
    "    while (not Found) and (i < m) and (j < m):\n",
    "        if L1[j][1] == L2[i][1]:\n",
    "            return m * L1[j][0] + L2[i][0] % n\n",
    "        elif abs(L1[j][1]) > abs(L2[i][1]):\n",
    "            i = i + 1\n",
    "        else:\n",
    "            j = j + 1\n",
    "\n",
    "def CongruencePair(g, h, p, q, e, e1, e2):\n",
    "    \"\"\"Return pair (x, q ** e) which represents one congruence\"\"\"\n",
    "    alphaInverse = ModularInverse(e1, p)\n",
    "    x = 0 # x = x_{0} + x_{1} * q + x_{2} * q^{2} + ... + x_{e - 1} * q^{e - 1}\n",
    "    for i in range(1, e + 1):\n",
    "        a = pow(e1, q ** (e - 1), p)\n",
    "        b = pow(e2 * (alphaInverse ** x), q ** (e - i), p)\n",
    "        x += ShanksAlgorithm(a, b, p) * (q ** (i - 1))\n",
    "    return (x, q ** e)\n",
    "\n",
    "def PrintFormated(arg1, arg2, arg3, arg4, arg5):\n",
    "    print (\" {:3s} | {:3s} | {:13s} | {:13s} | {:45s}\".format(str(arg1), str(arg2), str(arg3), str(arg4), str(arg5)))\n",
    "    print(\"-\"*90)\n",
    "\n",
    "def PohlingHellman(g, h, p):\n",
    "    \"\"\"Main function of Pohling-Hellman's algorithm\"\"\"\n",
    "\n",
    "    CountOccurencesList = CountOccurences(PrimeFactorization(p - 1))\n",
    "    CongruenceList = []\n",
    "\n",
    "    print(\"\\n\")\n",
    "    print(\"-\"*90)\n",
    "    print(\" Solving %d ≡ %d^x (mod %d)\" % (g, h, p))\n",
    "    print(\"-\"*90)\n",
    "    PrintFormated(\"q\", \"e\", \"g^((p-1)/q^e)\", \"h^((p-1)/q^e)\", \"Solve (g^((p-1)/q^e))^x = h^((p-1)/q^e) for x\")\n",
    "\n",
    "    for i in range(len(CountOccurencesList)):\n",
    "        e1 = (h ** ((p - 1) / (CountOccurencesList[i][0] ** CountOccurencesList[i][1]))) % p # e1 = g^((p-1)/q^e)\n",
    "        e2 = (g ** ((p - 1) / (CountOccurencesList[i][0] ** CountOccurencesList[i][1]))) % p # e2 = h^((p-1)/q^e)\n",
    "        # Add new congruence\n",
    "        CongruenceList.append(CongruencePair(g, h, p, CountOccurencesList[i][0], CountOccurencesList[i][1], e1, e2))\n",
    "        e3 = CongruenceList[len(CongruenceList) - 1][0] % CongruenceList[len(CongruenceList) - 1][1] # e3 = (g^((p-1)/q^e))^x\n",
    "        e4 = CongruenceList[len(CongruenceList) - 1][1] # e4 = h^((p-1)/q^e)\n",
    "        PrintFormated(CountOccurencesList[i][0], CountOccurencesList[i][1], e1, e2, \"x ≡ %2d (mod %2d)\" % (e3, e4))\n",
    "\n",
    "    # Solve the system of congruences\n",
    "    print(\" Solution x = %d\" % ChineseRemainder(CongruenceList))\n",
    "    print(\"-\"*90)\n",
    "    print(\"\\n\")\n",
    "\n",
    "if __name__ == '__main__':\n",
    "\n",
    "    print(\"\\nPress CTRL + C to exit\\n\")\n",
    "    print(\"=\"*90)\n",
    "    print(\"Pohling-Hellman's algorithm for descrete logartihm\")\n",
    "    print(\"Formula : h ≡ g^x (mod p)\")\n",
    "    print(\"=\"*90)\n",
    "    print(\"\\n\")\n",
    "\n",
    "    # TEST EXAMPLES(h, g, p)         SOLUTIONS\n",
    "    #PohlingHellman(18, 2, 29)          11\n",
    "    #PohlingHellman(166, 7, 433)        47\n",
    "    #PohlingHellman(7531, 6, 8101)      6689\n",
    "    #PohlingHellman(525, 3, 809)        309\n",
    "    #PohlingHellman(12, 7, 41)          13\n",
    "    #PohlingHellman(70, 2, 131)         13\n",
    "    #PohlingHellman(525, 2, 809)        no solution\n",
    "    #PohlingHellman(525, -2, 131)       0\n",
    "\n",
    "\n",
    "    err = False\n",
    "    h = 12\n",
    "    g = 13\n",
    "    p = 14\n",
    "    if p < 2:\n",
    "        print(\"Group orded must be greater than one.\\n\")\n",
    "        err = True\n",
    "\n",
    "    if not err:\n",
    "        try:\n",
    "            PohlingHellman(h, g, p)\n",
    "        except TypeError:\n",
    "            print(\" The congruence %d ≡ %d^x (mod %d) has no solution \" % (h, g, p))\n",
    "            print(\"-\"*90)\n",
    "            print(\"\\n\")"
   ]
  },
  {
   "cell_type": "code",
   "execution_count": null,
   "metadata": {
    "collapsed": true
   },
   "outputs": [],
   "source": []
  }
 ],
 "metadata": {
  "kernelspec": {
   "display_name": "Python 3",
   "language": "python",
   "name": "python3"
  },
  "language_info": {
   "codemirror_mode": {
    "name": "ipython",
    "version": 3
   },
   "file_extension": ".py",
   "mimetype": "text/x-python",
   "name": "python",
   "nbconvert_exporter": "python",
   "pygments_lexer": "ipython3",
   "version": "3.6.5"
  }
 },
 "nbformat": 4,
 "nbformat_minor": 2
}
