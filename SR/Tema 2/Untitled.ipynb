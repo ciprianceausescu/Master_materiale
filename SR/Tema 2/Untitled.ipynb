{
 "cells": [
  {
   "cell_type": "code",
   "execution_count": 1,
   "metadata": {
    "collapsed": true
   },
   "outputs": [],
   "source": [
    "from random import randint\n",
    "\n",
    "def is_prime(num, test_count):\n",
    "    if num == 1:\n",
    "        return False\n",
    "    if test_count >= num:\n",
    "        test_count = num - 1\n",
    "    for x in range(test_count):\n",
    "        val = randint(1, num - 1)\n",
    "        if pow(val, num-1, num) != 1:\n",
    "            return False\n",
    "    return True\n",
    "\n",
    "def generate_big_prime(n):\n",
    "    found_prime = False\n",
    "    while not found_prime:\n",
    "        p = randint(2**(n-1), 2**n)\n",
    "        if is_prime(p, 1000):\n",
    "            return p"
   ]
  },
  {
   "cell_type": "code",
   "execution_count": 2,
   "metadata": {},
   "outputs": [
    {
     "data": {
      "text/plain": [
       "168689338775659317959707554471367764602109716882671011461273317560179024159642639239847821492902045616422975425411177560868150800462515153027499299593742957709627670666215870486772145948552686404143158395871288756763355682718077110761896653588457938247158951959849311040220487285052057370742176620306559247831"
      ]
     },
     "execution_count": 2,
     "metadata": {},
     "output_type": "execute_result"
    }
   ],
   "source": [
    "generate_big_prime(1024)"
   ]
  },
  {
   "cell_type": "code",
   "execution_count": null,
   "metadata": {
    "collapsed": true
   },
   "outputs": [],
   "source": [
    "generate_big_prime(4096)"
   ]
  },
  {
   "cell_type": "code",
   "execution_count": null,
   "metadata": {
    "collapsed": true
   },
   "outputs": [],
   "source": []
  }
 ],
 "metadata": {
  "kernelspec": {
   "display_name": "Python 3",
   "language": "python",
   "name": "python3"
  },
  "language_info": {
   "codemirror_mode": {
    "name": "ipython",
    "version": 3
   },
   "file_extension": ".py",
   "mimetype": "text/x-python",
   "name": "python",
   "nbconvert_exporter": "python",
   "pygments_lexer": "ipython3",
   "version": "3.6.5"
  }
 },
 "nbformat": 4,
 "nbformat_minor": 2
}
