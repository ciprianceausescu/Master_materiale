{
 "cells": [
  {
   "cell_type": "markdown",
   "metadata": {},
   "source": [
    "### Seminarul 1"
   ]
  },
  {
   "cell_type": "code",
   "execution_count": 18,
   "metadata": {},
   "outputs": [
    {
     "name": "stdout",
     "output_type": "stream",
     "text": [
      "b'AES-256 ECB mode twice, two keys'\n"
     ]
    }
   ],
   "source": [
    "import base64\n",
    "\n",
    "coded_string = \"QUVTLTI1NiBFQ0IgbW9kZSB0d2ljZSwgdHdvIGtleXM=\"\n",
    "decoded_string = base64.b64decode(coded_string)\n",
    "print(decoded_string)"
   ]
  },
  {
   "cell_type": "code",
   "execution_count": 19,
   "metadata": {
    "collapsed": true
   },
   "outputs": [],
   "source": [
    "from Crypto.Cipher import AES\n",
    "from hashlib import md5\n",
    "from base64 import b64decode\n",
    "from base64 import b64encode\n",
    "\n",
    "unpad = lambda s: s[:-ord(s[len(s) - 1:])]\n",
    "\n",
    "class AESCipher:\n",
    "    def __init__(self, key):\n",
    "        self.key = md5(key.encode('utf-8')).hexdigest()\n",
    "        \n",
    "    def decrypt(self, enc):\n",
    "        enc = b64decode(enc)\n",
    "        cipher = AES.new(self.key, AES.MODE_ECB)\n",
    "        return unpad(cipher.decrypt(enc)).decode('utf-8')"
   ]
  },
  {
   "cell_type": "code",
   "execution_count": 23,
   "metadata": {},
   "outputs": [
    {
     "name": "stdout",
     "output_type": "stream",
     "text": [
      "[]\n"
     ]
    },
    {
     "ename": "ValueError",
     "evalue": "Key cannot be the null string",
     "output_type": "error",
     "traceback": [
      "\u001b[1;31m---------------------------------------------------------------------------\u001b[0m",
      "\u001b[1;31mValueError\u001b[0m                                Traceback (most recent call last)",
      "\u001b[1;32m<ipython-input-23-e0a89aae38fa>\u001b[0m in \u001b[0;36m<module>\u001b[1;34m()\u001b[0m\n\u001b[0;32m     32\u001b[0m     \u001b[1;32mreturn\u001b[0m \u001b[0mtable\u001b[0m\u001b[1;33m\u001b[0m\u001b[0m\n\u001b[0;32m     33\u001b[0m \u001b[1;33m\u001b[0m\u001b[0m\n\u001b[1;32m---> 34\u001b[1;33m \u001b[0mtable\u001b[0m \u001b[1;33m=\u001b[0m \u001b[0mEncryptTable\u001b[0m\u001b[1;33m(\u001b[0m\u001b[1;33m)\u001b[0m\u001b[1;33m\u001b[0m\u001b[0m\n\u001b[0m\u001b[0;32m     35\u001b[0m \u001b[1;32mfor\u001b[0m \u001b[0mshort_key\u001b[0m \u001b[1;32min\u001b[0m \u001b[0mKeyGen\u001b[0m\u001b[1;33m(\u001b[0m\u001b[1;33m)\u001b[0m\u001b[1;33m:\u001b[0m\u001b[1;33m\u001b[0m\u001b[0m\n\u001b[0;32m     36\u001b[0m     \u001b[0mdecrypted\u001b[0m \u001b[1;33m=\u001b[0m \u001b[0mDecrypt\u001b[0m\u001b[1;33m(\u001b[0m\u001b[0mshort_key\u001b[0m\u001b[1;33m)\u001b[0m\u001b[1;33m\u001b[0m\u001b[0m\n",
      "\u001b[1;32m<ipython-input-23-e0a89aae38fa>\u001b[0m in \u001b[0;36mEncryptTable\u001b[1;34m()\u001b[0m\n\u001b[0;32m     29\u001b[0m     \u001b[0mtable\u001b[0m \u001b[1;33m=\u001b[0m \u001b[1;33m{\u001b[0m\u001b[1;33m}\u001b[0m\u001b[1;33m\u001b[0m\u001b[0m\n\u001b[0;32m     30\u001b[0m     \u001b[1;32mfor\u001b[0m \u001b[0mshort_key\u001b[0m \u001b[1;32min\u001b[0m \u001b[0mKeyGen\u001b[0m\u001b[1;33m(\u001b[0m\u001b[1;33m)\u001b[0m\u001b[1;33m:\u001b[0m\u001b[1;33m\u001b[0m\u001b[0m\n\u001b[1;32m---> 31\u001b[1;33m         \u001b[0mtable\u001b[0m\u001b[1;33m[\u001b[0m\u001b[0mEncrypt\u001b[0m\u001b[1;33m(\u001b[0m\u001b[0mshort_key\u001b[0m\u001b[1;33m)\u001b[0m\u001b[1;33m]\u001b[0m \u001b[1;33m=\u001b[0m \u001b[0mshort_key\u001b[0m\u001b[1;33m\u001b[0m\u001b[0m\n\u001b[0m\u001b[0;32m     32\u001b[0m     \u001b[1;32mreturn\u001b[0m \u001b[0mtable\u001b[0m\u001b[1;33m\u001b[0m\u001b[0m\n\u001b[0;32m     33\u001b[0m \u001b[1;33m\u001b[0m\u001b[0m\n",
      "\u001b[1;32m<ipython-input-23-e0a89aae38fa>\u001b[0m in \u001b[0;36mEncrypt\u001b[1;34m(short_key, text)\u001b[0m\n\u001b[0;32m     12\u001b[0m \u001b[1;33m\u001b[0m\u001b[0m\n\u001b[0;32m     13\u001b[0m \u001b[1;32mdef\u001b[0m \u001b[0mEncrypt\u001b[0m\u001b[1;33m(\u001b[0m\u001b[0mshort_key\u001b[0m\u001b[1;33m,\u001b[0m \u001b[0mtext\u001b[0m\u001b[1;33m=\u001b[0m\u001b[0mplain\u001b[0m\u001b[1;33m)\u001b[0m\u001b[1;33m:\u001b[0m\u001b[1;33m\u001b[0m\u001b[0m\n\u001b[1;32m---> 14\u001b[1;33m     \u001b[1;32mreturn\u001b[0m \u001b[0mNewAES\u001b[0m\u001b[1;33m(\u001b[0m\u001b[0mKEY_PADDING\u001b[0m\u001b[1;33m+\u001b[0m\u001b[0mshort_key\u001b[0m\u001b[1;33m)\u001b[0m\u001b[1;33m.\u001b[0m\u001b[0mencrypt\u001b[0m\u001b[1;33m(\u001b[0m\u001b[0mtext\u001b[0m\u001b[1;33m)\u001b[0m\u001b[1;33m\u001b[0m\u001b[0m\n\u001b[0m\u001b[0;32m     15\u001b[0m \u001b[1;33m\u001b[0m\u001b[0m\n\u001b[0;32m     16\u001b[0m \u001b[1;32mdef\u001b[0m \u001b[0mDecrypt\u001b[0m\u001b[1;33m(\u001b[0m\u001b[0mshort_key\u001b[0m\u001b[1;33m,\u001b[0m \u001b[0mtext\u001b[0m\u001b[1;33m=\u001b[0m\u001b[0mcipher\u001b[0m\u001b[1;33m)\u001b[0m\u001b[1;33m:\u001b[0m\u001b[1;33m\u001b[0m\u001b[0m\n",
      "\u001b[1;32m<ipython-input-23-e0a89aae38fa>\u001b[0m in \u001b[0;36mNewAES\u001b[1;34m(key)\u001b[0m\n\u001b[0;32m      9\u001b[0m \u001b[1;33m\u001b[0m\u001b[0m\n\u001b[0;32m     10\u001b[0m \u001b[1;32mdef\u001b[0m \u001b[0mNewAES\u001b[0m\u001b[1;33m(\u001b[0m\u001b[0mkey\u001b[0m\u001b[1;33m)\u001b[0m\u001b[1;33m:\u001b[0m\u001b[1;33m\u001b[0m\u001b[0m\n\u001b[1;32m---> 11\u001b[1;33m     \u001b[1;32mreturn\u001b[0m \u001b[0mAES\u001b[0m\u001b[1;33m.\u001b[0m\u001b[0mnew\u001b[0m\u001b[1;33m(\u001b[0m\u001b[0mkey\u001b[0m\u001b[1;33m,\u001b[0m \u001b[0mmode\u001b[0m\u001b[1;33m=\u001b[0m\u001b[0mAES\u001b[0m\u001b[1;33m.\u001b[0m\u001b[0mMODE_ECB\u001b[0m\u001b[1;33m)\u001b[0m\u001b[1;33m\u001b[0m\u001b[0m\n\u001b[0m\u001b[0;32m     12\u001b[0m \u001b[1;33m\u001b[0m\u001b[0m\n\u001b[0;32m     13\u001b[0m \u001b[1;32mdef\u001b[0m \u001b[0mEncrypt\u001b[0m\u001b[1;33m(\u001b[0m\u001b[0mshort_key\u001b[0m\u001b[1;33m,\u001b[0m \u001b[0mtext\u001b[0m\u001b[1;33m=\u001b[0m\u001b[0mplain\u001b[0m\u001b[1;33m)\u001b[0m\u001b[1;33m:\u001b[0m\u001b[1;33m\u001b[0m\u001b[0m\n",
      "\u001b[1;32m~\\Anaconda3\\lib\\site-packages\\Crypto\\Cipher\\AES.py\u001b[0m in \u001b[0;36mnew\u001b[1;34m(key, *args, **kwargs)\u001b[0m\n\u001b[0;32m     93\u001b[0m     \u001b[1;33m:\u001b[0m\u001b[0mReturn\u001b[0m\u001b[1;33m:\u001b[0m \u001b[0man\u001b[0m\u001b[0;31m \u001b[0m\u001b[0;31m`\u001b[0m\u001b[0mAESCipher\u001b[0m\u001b[0;31m`\u001b[0m \u001b[0mobject\u001b[0m\u001b[1;33m\u001b[0m\u001b[0m\n\u001b[0;32m     94\u001b[0m     \"\"\"\n\u001b[1;32m---> 95\u001b[1;33m     \u001b[1;32mreturn\u001b[0m \u001b[0mAESCipher\u001b[0m\u001b[1;33m(\u001b[0m\u001b[0mkey\u001b[0m\u001b[1;33m,\u001b[0m \u001b[1;33m*\u001b[0m\u001b[0margs\u001b[0m\u001b[1;33m,\u001b[0m \u001b[1;33m**\u001b[0m\u001b[0mkwargs\u001b[0m\u001b[1;33m)\u001b[0m\u001b[1;33m\u001b[0m\u001b[0m\n\u001b[0m\u001b[0;32m     96\u001b[0m \u001b[1;33m\u001b[0m\u001b[0m\n\u001b[0;32m     97\u001b[0m \u001b[1;31m#: Electronic Code Book (ECB). See `blockalgo.MODE_ECB`.\u001b[0m\u001b[1;33m\u001b[0m\u001b[1;33m\u001b[0m\u001b[0m\n",
      "\u001b[1;32m~\\Anaconda3\\lib\\site-packages\\Crypto\\Cipher\\AES.py\u001b[0m in \u001b[0;36m__init__\u001b[1;34m(self, key, *args, **kwargs)\u001b[0m\n\u001b[0;32m     57\u001b[0m \u001b[1;33m\u001b[0m\u001b[0m\n\u001b[0;32m     58\u001b[0m         See also `new()` at the module level.\"\"\"\n\u001b[1;32m---> 59\u001b[1;33m         \u001b[0mblockalgo\u001b[0m\u001b[1;33m.\u001b[0m\u001b[0mBlockAlgo\u001b[0m\u001b[1;33m.\u001b[0m\u001b[0m__init__\u001b[0m\u001b[1;33m(\u001b[0m\u001b[0mself\u001b[0m\u001b[1;33m,\u001b[0m \u001b[0m_AES\u001b[0m\u001b[1;33m,\u001b[0m \u001b[0mkey\u001b[0m\u001b[1;33m,\u001b[0m \u001b[1;33m*\u001b[0m\u001b[0margs\u001b[0m\u001b[1;33m,\u001b[0m \u001b[1;33m**\u001b[0m\u001b[0mkwargs\u001b[0m\u001b[1;33m)\u001b[0m\u001b[1;33m\u001b[0m\u001b[0m\n\u001b[0m\u001b[0;32m     60\u001b[0m \u001b[1;33m\u001b[0m\u001b[0m\n\u001b[0;32m     61\u001b[0m \u001b[1;32mdef\u001b[0m \u001b[0mnew\u001b[0m\u001b[1;33m(\u001b[0m\u001b[0mkey\u001b[0m\u001b[1;33m,\u001b[0m \u001b[1;33m*\u001b[0m\u001b[0margs\u001b[0m\u001b[1;33m,\u001b[0m \u001b[1;33m**\u001b[0m\u001b[0mkwargs\u001b[0m\u001b[1;33m)\u001b[0m\u001b[1;33m:\u001b[0m\u001b[1;33m\u001b[0m\u001b[0m\n",
      "\u001b[1;32m~\\Anaconda3\\lib\\site-packages\\Crypto\\Cipher\\blockalgo.py\u001b[0m in \u001b[0;36m__init__\u001b[1;34m(self, factory, key, *args, **kwargs)\u001b[0m\n\u001b[0;32m    139\u001b[0m \u001b[1;33m\u001b[0m\u001b[0m\n\u001b[0;32m    140\u001b[0m         \u001b[1;32mif\u001b[0m \u001b[0mself\u001b[0m\u001b[1;33m.\u001b[0m\u001b[0mmode\u001b[0m \u001b[1;33m!=\u001b[0m \u001b[0mMODE_OPENPGP\u001b[0m\u001b[1;33m:\u001b[0m\u001b[1;33m\u001b[0m\u001b[0m\n\u001b[1;32m--> 141\u001b[1;33m             \u001b[0mself\u001b[0m\u001b[1;33m.\u001b[0m\u001b[0m_cipher\u001b[0m \u001b[1;33m=\u001b[0m \u001b[0mfactory\u001b[0m\u001b[1;33m.\u001b[0m\u001b[0mnew\u001b[0m\u001b[1;33m(\u001b[0m\u001b[0mkey\u001b[0m\u001b[1;33m,\u001b[0m \u001b[1;33m*\u001b[0m\u001b[0margs\u001b[0m\u001b[1;33m,\u001b[0m \u001b[1;33m**\u001b[0m\u001b[0mkwargs\u001b[0m\u001b[1;33m)\u001b[0m\u001b[1;33m\u001b[0m\u001b[0m\n\u001b[0m\u001b[0;32m    142\u001b[0m             \u001b[0mself\u001b[0m\u001b[1;33m.\u001b[0m\u001b[0mIV\u001b[0m \u001b[1;33m=\u001b[0m \u001b[0mself\u001b[0m\u001b[1;33m.\u001b[0m\u001b[0m_cipher\u001b[0m\u001b[1;33m.\u001b[0m\u001b[0mIV\u001b[0m\u001b[1;33m\u001b[0m\u001b[0m\n\u001b[0;32m    143\u001b[0m         \u001b[1;32melse\u001b[0m\u001b[1;33m:\u001b[0m\u001b[1;33m\u001b[0m\u001b[0m\n",
      "\u001b[1;31mValueError\u001b[0m: Key cannot be the null string"
     ]
    }
   ],
   "source": [
    "from Crypto.Cipher import AES\n",
    "import numpy as np\n",
    "plain = base64.b64decode('QUVTLTI1NiBFQ0IgbW9kZSB0d2ljZSwgdHdvIGtleXM=')\n",
    "cipher = base64.b64decode('THbpB4bE82Rq35khemTQ10ntxZ8sf7s2WK8ErwcdDEc=')\n",
    "unknown = base64.b64decode('s5hd0ThTkv1U44r9aRyUhaX5qJe561MZ16071nlvM9U=')\n",
    " \n",
    "KEY_PADDING = np.chararray(0)*29\n",
    "print(KEY_PADDING)\n",
    " \n",
    "def NewAES(key):\n",
    "    return AES.new(key, mode=AES.MODE_ECB)\n",
    " \n",
    "def Encrypt(short_key, text=plain):\n",
    "    return NewAES(KEY_PADDING+short_key).encrypt(text)\n",
    " \n",
    "def Decrypt(short_key, text=cipher):\n",
    "    return NewAES(KEY_PADDING+short_key).decrypt(text)\n",
    " \n",
    "def KeyGen():\n",
    "    \"\"\"Generator for all possible 24 bit keys.\"\"\"\n",
    "    for a in range(0, 256):\n",
    "        for b in range(0, 256):\n",
    "            for c in range(0, 256):\n",
    "                yield chr(a)+chr(b)+chr(c)\n",
    "\n",
    "                \n",
    "def EncryptTable():\n",
    "    \"\"\"Map of encryptions to keys.\"\"\"\n",
    "    table = {}\n",
    "    for short_key in KeyGen():\n",
    "        table[Encrypt(short_key)] = short_key\n",
    "    return table\n",
    "\n",
    "table = EncryptTable()\n",
    "for short_key in KeyGen():\n",
    "    decrypted = Decrypt(short_key)\n",
    "    if decrypted in table:\n",
    "    # Have a match, now decrypt the unknown\n",
    "        print (Decrypt(short_key, Decrypt(table[decrypted], unknown)))\n",
    "        break"
   ]
  },
  {
   "cell_type": "code",
   "execution_count": 24,
   "metadata": {},
   "outputs": [
    {
     "name": "stdout",
     "output_type": "stream",
     "text": [
      "Test passed\n",
      "That years BKP flag: \n",
      "b\"This time I didn't include sol'n\"\n"
     ]
    }
   ],
   "source": [
    "\"\"\"\n",
    "AES Meet in the middle attack for when a plaintext is encrypted twice, with two different keys.\n",
    "You must know something about the key format, for example the sample keygen is written\n",
    "with all but the last 24 bits being 0. Create a new key generator method according to your case.\n",
    "\"\"\"\n",
    "\n",
    "from Crypto.Cipher import AES\n",
    "\n",
    "def solve(plaintext,ciphertext,KeyGen):\n",
    "    encrypted = {}\n",
    "    for key in KeyGen():\n",
    "        AEScipher = newAES(key)\n",
    "        encrypted[AEScipher.encrypt(plaintext)] = key\n",
    "    for key in KeyGen():\n",
    "        AEScipher = newAES(key)\n",
    "        decrypted = AEScipher.decrypt(ciphertext)\n",
    "        if(decrypted in encrypted):\n",
    "            # We got a match!\n",
    "            Key1 = encrypted[decrypted]\n",
    "            Key2 = key\n",
    "            return (Key1,Key2)\n",
    "\n",
    "def newAES(key):\n",
    "    return AES.new(key, mode=AES.MODE_ECB)\n",
    "\n",
    "def sample_KeyGen():\n",
    "    baseString = bytes([0])*29\n",
    "    for a in range(256):\n",
    "        StringA = baseString + bytes([a])\n",
    "        for b in range(256):\n",
    "            StringB = StringA + bytes([b])\n",
    "            for c in range(256):\n",
    "                yield StringB + bytes([c])\n",
    "\n",
    "def testAESMITM():\n",
    "    # Use 2013 Boston Key Party values\n",
    "    import base64\n",
    "    message1    =  base64.b64decode(\"QUVTLTI1NiBFQ0IgbW9kZSB0d2ljZSwgdHdvIGtleXM=\")\n",
    "    encrypted   =  base64.b64decode(\"THbpB4bE82Rq35khemTQ10ntxZ8sf7s2WK8ErwcdDEc=\")\n",
    "    (Key1,Key2) =  solve(message1,encrypted,sample_KeyGen)\n",
    "    AES1 = newAES(Key1)\n",
    "    AES2 = newAES(Key2)\n",
    "    message2    =  base64.b64decode(\"RWFjaCBrZXkgemVybyB1bnRpbCBsYXN0IDI0IGJpdHM=\")\n",
    "    encrypted   =  base64.b64decode(\"01YZbSrta2N+1pOeQppmPETzoT/Yqb816yGlyceuEOE=\")\n",
    "    assert AES1.encrypt(message2) == AES2.decrypt(encrypted)\n",
    "    print(\"Test passed\")\n",
    "    ciphertext  =  base64.b64decode(\"s5hd0ThTkv1U44r9aRyUhaX5qJe561MZ16071nlvM9U=\")\n",
    "    print(\"That years BKP flag: \")\n",
    "    print(AES1.decrypt(AES2.decrypt(ciphertext)))\n",
    "\n",
    "testAESMITM()"
   ]
  },
  {
   "cell_type": "code",
   "execution_count": null,
   "metadata": {
    "collapsed": true
   },
   "outputs": [],
   "source": []
  }
 ],
 "metadata": {
  "kernelspec": {
   "display_name": "Python 3",
   "language": "python",
   "name": "python3"
  },
  "language_info": {
   "codemirror_mode": {
    "name": "ipython",
    "version": 3
   },
   "file_extension": ".py",
   "mimetype": "text/x-python",
   "name": "python",
   "nbconvert_exporter": "python",
   "pygments_lexer": "ipython3",
   "version": "3.6.3"
  }
 },
 "nbformat": 4,
 "nbformat_minor": 2
}
