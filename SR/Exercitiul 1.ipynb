{
 "cells": [
  {
   "cell_type": "markdown",
   "metadata": {},
   "source": [
    "### Seminarul 1 (mirunarosca@gmail.com)\n",
    "\n",
    "##### m1 c1 \n",
    "##### m2 c2\n",
    "##### Encrypted(Encrypted(mi)) = ci pentru oricare i=1,2"
   ]
  },
  {
   "cell_type": "markdown",
   "metadata": {},
   "source": [
    "#### AES Meet in the middle attack = when a plaintext is encrypted twice, with two different keys. \n",
    "\n",
    "#### You must know something about the key format. In this example the sample keygen is written with all bits being 0, untill last 24 bits. \n",
    "\n",
    "#### We need to create a new key generator method according to your case."
   ]
  },
  {
   "cell_type": "code",
   "execution_count": 5,
   "metadata": {},
   "outputs": [
    {
     "name": "stdout",
     "output_type": "stream",
     "text": [
      "Here are the results: \n",
      "Message 1:  b'AES-256 ECB mode twice, two keys'\n",
      "Message 2:  b'Each key zero until last 24 bits'\n",
      "Test passed\n",
      "Decrypted cipher text with AES 1 and AES 2:\n",
      "b\"This time I didn't include sol'n\"\n"
     ]
    }
   ],
   "source": [
    "from Crypto.Cipher import AES\n",
    "\n",
    "def solve(plaintext,ciphertext,KeyGen):\n",
    "    encrypted = {}\n",
    "    for key in KeyGen():\n",
    "        AEScipher = newAES(key)\n",
    "        encrypted[AEScipher.encrypt(plaintext)] = key\n",
    "    for key in KeyGen():\n",
    "        AEScipher = newAES(key)\n",
    "        decrypted = AEScipher.decrypt(ciphertext)\n",
    "        if(decrypted in encrypted):\n",
    "            # We got a match between encrypted and decrypted texts\n",
    "            Key1 = encrypted[decrypted]\n",
    "            Key2 = key\n",
    "            return (Key1,Key2)\n",
    "\n",
    "def newAES(key):\n",
    "    return AES.new(key, mode=AES.MODE_ECB)\n",
    "\n",
    "def sample_KeyGen():\n",
    "    # Here we define the key - 29 bytes of 0, and 3 bytes that are \n",
    "    # generating with 0 or 1 in for loops in order to find the key \n",
    "    baseString = bytes([0])*29\n",
    "    for a in range(256):\n",
    "        StringA = baseString + bytes([a])\n",
    "        for b in range(256):\n",
    "            StringB = StringA + bytes([b])\n",
    "            for c in range(256):\n",
    "                yield StringB + bytes([c])\n",
    "\n",
    "def testAESMITM():\n",
    "    import base64\n",
    "    message1    =  base64.b64decode(\"QUVTLTI1NiBFQ0IgbW9kZSB0d2ljZSwgdHdvIGtleXM=\")\n",
    "    encrypted   =  base64.b64decode(\"THbpB4bE82Rq35khemTQ10ntxZ8sf7s2WK8ErwcdDEc=\")\n",
    "    print(\"Here are the results: \")\n",
    "    print(\"Message 1: \", message1)\n",
    "    (Key1,Key2) =  solve(message1,encrypted,sample_KeyGen)\n",
    "    AES1 = newAES(Key1)\n",
    "    AES2 = newAES(Key2)\n",
    "    message2    =  base64.b64decode(\"RWFjaCBrZXkgemVybyB1bnRpbCBsYXN0IDI0IGJpdHM=\")\n",
    "    encrypted   =  base64.b64decode(\"01YZbSrta2N+1pOeQppmPETzoT/Yqb816yGlyceuEOE=\")\n",
    "    print(\"Message 2: \", message2)\n",
    "    assert AES1.encrypt(message2) == AES2.decrypt(encrypted)\n",
    "    print(\"Test passed\")\n",
    "    ciphertext  =  base64.b64decode(\"s5hd0ThTkv1U44r9aRyUhaX5qJe561MZ16071nlvM9U=\")\n",
    "    print(\"Decrypted cipher text with AES 1 and AES 2:\")\n",
    "    print(AES1.decrypt(AES2.decrypt(ciphertext)))\n",
    "\n",
    "testAESMITM()"
   ]
  }
 ],
 "metadata": {
  "kernelspec": {
   "display_name": "Python 3",
   "language": "python",
   "name": "python3"
  },
  "language_info": {
   "codemirror_mode": {
    "name": "ipython",
    "version": 3
   },
   "file_extension": ".py",
   "mimetype": "text/x-python",
   "name": "python",
   "nbconvert_exporter": "python",
   "pygments_lexer": "ipython3",
   "version": "3.6.3"
  }
 },
 "nbformat": 4,
 "nbformat_minor": 2
}
