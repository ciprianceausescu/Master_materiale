{
 "cells": [
  {
   "cell_type": "markdown",
   "metadata": {},
   "source": [
    "### Seminarul 1"
   ]
  },
  {
   "cell_type": "code",
   "execution_count": 17,
   "metadata": {},
   "outputs": [
    {
     "name": "stdout",
     "output_type": "stream",
     "text": [
      "b'AES-256 ECB mode twice, two keys'\n"
     ]
    }
   ],
   "source": [
    "import base64\n",
    "\n",
    "coded_string = \"QUVTLTI1NiBFQ0IgbW9kZSB0d2ljZSwgdHdvIGtleXM=\"\n",
    "decoded_string = base64.b64decode(coded_string)\n",
    "print(decoded_string)"
   ]
  },
  {
   "cell_type": "code",
   "execution_count": 24,
   "metadata": {},
   "outputs": [],
   "source": [
    "from Crypto.Cipher import AES\n",
    "from hashlib import md5\n",
    "from base64 import b64decode\n",
    "from base64 import b64encode\n",
    "\n",
    "unpad = lambda s: s[:-ord(s[len(s) - 1:])]\n",
    "\n",
    "class AESCipher:\n",
    "    def __init__(self, key):\n",
    "        self.key = md5(key.encode('utf-8')).hexdigest()\n",
    "        \n",
    "    def decrypt(self, enc):\n",
    "        enc = b64decode(enc)\n",
    "        cipher = AES.new(self.key, AES.MODE_ECB)\n",
    "        return unpad(cipher.decrypt(enc)).decode('utf-8')"
   ]
  },
  {
   "cell_type": "code",
   "execution_count": 46,
   "metadata": {},
   "outputs": [
    {
     "ename": "NameError",
     "evalue": "name 'xrange' is not defined",
     "output_type": "error",
     "traceback": [
      "\u001b[1;31m---------------------------------------------------------------------------\u001b[0m",
      "\u001b[1;31mNameError\u001b[0m                                 Traceback (most recent call last)",
      "\u001b[1;32m<ipython-input-46-30438ea64fc9>\u001b[0m in \u001b[0;36m<module>\u001b[1;34m()\u001b[0m\n\u001b[0;32m     29\u001b[0m     \u001b[1;32mreturn\u001b[0m \u001b[0mtable\u001b[0m\u001b[1;33m\u001b[0m\u001b[0m\n\u001b[0;32m     30\u001b[0m \u001b[1;33m\u001b[0m\u001b[0m\n\u001b[1;32m---> 31\u001b[1;33m \u001b[0mtable\u001b[0m \u001b[1;33m=\u001b[0m \u001b[0mEncryptTable\u001b[0m\u001b[1;33m(\u001b[0m\u001b[1;33m)\u001b[0m\u001b[1;33m\u001b[0m\u001b[0m\n\u001b[0m\u001b[0;32m     32\u001b[0m \u001b[1;32mfor\u001b[0m \u001b[0mshort_key\u001b[0m \u001b[1;32min\u001b[0m \u001b[0mKeyGen\u001b[0m\u001b[1;33m(\u001b[0m\u001b[1;33m)\u001b[0m\u001b[1;33m:\u001b[0m\u001b[1;33m\u001b[0m\u001b[0m\n\u001b[0;32m     33\u001b[0m     \u001b[0mdecrypted\u001b[0m \u001b[1;33m=\u001b[0m \u001b[0mDecrypt\u001b[0m\u001b[1;33m(\u001b[0m\u001b[0mshort_key\u001b[0m\u001b[1;33m)\u001b[0m\u001b[1;33m\u001b[0m\u001b[0m\n",
      "\u001b[1;32m<ipython-input-46-30438ea64fc9>\u001b[0m in \u001b[0;36mEncryptTable\u001b[1;34m()\u001b[0m\n\u001b[0;32m     25\u001b[0m     \u001b[1;34m\"\"\"Map of encryptions to keys.\"\"\"\u001b[0m\u001b[1;33m\u001b[0m\u001b[0m\n\u001b[0;32m     26\u001b[0m     \u001b[0mtable\u001b[0m \u001b[1;33m=\u001b[0m \u001b[1;33m{\u001b[0m\u001b[1;33m}\u001b[0m\u001b[1;33m\u001b[0m\u001b[0m\n\u001b[1;32m---> 27\u001b[1;33m     \u001b[1;32mfor\u001b[0m \u001b[0mshort_key\u001b[0m \u001b[1;32min\u001b[0m \u001b[0mKeyGen\u001b[0m\u001b[1;33m(\u001b[0m\u001b[1;33m)\u001b[0m\u001b[1;33m:\u001b[0m\u001b[1;33m\u001b[0m\u001b[0m\n\u001b[0m\u001b[0;32m     28\u001b[0m         \u001b[0mtable\u001b[0m\u001b[1;33m[\u001b[0m\u001b[0mEncrypt\u001b[0m\u001b[1;33m(\u001b[0m\u001b[0mshort_key\u001b[0m\u001b[1;33m)\u001b[0m\u001b[1;33m]\u001b[0m \u001b[1;33m=\u001b[0m \u001b[0mshort_key\u001b[0m\u001b[1;33m\u001b[0m\u001b[0m\n\u001b[0;32m     29\u001b[0m     \u001b[1;32mreturn\u001b[0m \u001b[0mtable\u001b[0m\u001b[1;33m\u001b[0m\u001b[0m\n",
      "\u001b[1;32m<ipython-input-46-30438ea64fc9>\u001b[0m in \u001b[0;36mKeyGen\u001b[1;34m()\u001b[0m\n\u001b[0;32m     17\u001b[0m \u001b[1;32mdef\u001b[0m \u001b[0mKeyGen\u001b[0m\u001b[1;33m(\u001b[0m\u001b[1;33m)\u001b[0m\u001b[1;33m:\u001b[0m\u001b[1;33m\u001b[0m\u001b[0m\n\u001b[0;32m     18\u001b[0m     \u001b[1;34m\"\"\"Generator for all possible 24 bit keys.\"\"\"\u001b[0m\u001b[1;33m\u001b[0m\u001b[0m\n\u001b[1;32m---> 19\u001b[1;33m     \u001b[1;32mfor\u001b[0m \u001b[0ma\u001b[0m \u001b[1;32min\u001b[0m \u001b[0mxrange\u001b[0m\u001b[1;33m(\u001b[0m\u001b[1;36m0\u001b[0m\u001b[1;33m,\u001b[0m \u001b[1;36m256\u001b[0m\u001b[1;33m)\u001b[0m\u001b[1;33m:\u001b[0m\u001b[1;33m\u001b[0m\u001b[0m\n\u001b[0m\u001b[0;32m     20\u001b[0m         \u001b[1;32mfor\u001b[0m \u001b[0mb\u001b[0m \u001b[1;32min\u001b[0m \u001b[0mxrange\u001b[0m\u001b[1;33m(\u001b[0m\u001b[1;36m0\u001b[0m\u001b[1;33m,\u001b[0m \u001b[1;36m256\u001b[0m\u001b[1;33m)\u001b[0m\u001b[1;33m:\u001b[0m\u001b[1;33m\u001b[0m\u001b[0m\n\u001b[0;32m     21\u001b[0m             \u001b[1;32mfor\u001b[0m \u001b[0mc\u001b[0m \u001b[1;32min\u001b[0m \u001b[0mxrange\u001b[0m\u001b[1;33m(\u001b[0m\u001b[1;36m0\u001b[0m\u001b[1;33m,\u001b[0m \u001b[1;36m256\u001b[0m\u001b[1;33m)\u001b[0m\u001b[1;33m:\u001b[0m\u001b[1;33m\u001b[0m\u001b[0m\n",
      "\u001b[1;31mNameError\u001b[0m: name 'xrange' is not defined"
     ]
    }
   ],
   "source": [
    "from Crypto.Cipher import AES\n",
    "plain = base64.b64decode('QUVTLTI1NiBFQ0IgbW9kZSB0d2ljZSwgdHdvIGtleXM=')\n",
    "cipher = base64.b64decode('THbpB4bE82Rq35khemTQ10ntxZ8sf7s2WK8ErwcdDEc=')\n",
    "unknown = base64.b64decode('s5hd0ThTkv1U44r9aRyUhaX5qJe561MZ16071nlvM9U=')\n",
    " \n",
    "KEY_PADDING = chr(0)*29\n",
    " \n",
    "def NewAES(key):\n",
    "    return AES.new(key, mode=AES.MODE_ECB)\n",
    " \n",
    "def Encrypt(short_key, text=plain):\n",
    "    return NewAES(KEY_PADDING+short_key).encrypt(text)\n",
    " \n",
    "def Decrypt(short_key, text=cipher):\n",
    "    return NewAES(KEY_PADDING+short_key).decrypt(text)\n",
    " \n",
    "def KeyGen():\n",
    "    \"\"\"Generator for all possible 24 bit keys.\"\"\"\n",
    "    for a in xrange(0, 256):\n",
    "        for b in xrange(0, 256):\n",
    "            for c in xrange(0, 256):\n",
    "                yield chr(a)+chr(b)+chr(c)\n",
    "                \n",
    "def EncryptTable():\n",
    "    \"\"\"Map of encryptions to keys.\"\"\"\n",
    "    table = {}\n",
    "    for short_key in KeyGen():\n",
    "        table[Encrypt(short_key)] = short_key\n",
    "    return table\n",
    "\n",
    "table = EncryptTable()\n",
    "for short_key in KeyGen():\n",
    "    decrypted = Decrypt(short_key)\n",
    "    if decrypted in table:\n",
    "    # Have a match, now decrypt the unknown\n",
    "        print (Decrypt(short_key, Decrypt(table[decrypted], unknown)))\n",
    "        break"
   ]
  },
  {
   "cell_type": "code",
   "execution_count": null,
   "metadata": {
    "collapsed": true
   },
   "outputs": [],
   "source": []
  }
 ],
 "metadata": {
  "kernelspec": {
   "display_name": "Python 3",
   "language": "python",
   "name": "python3"
  },
  "language_info": {
   "codemirror_mode": {
    "name": "ipython",
    "version": 3
   },
   "file_extension": ".py",
   "mimetype": "text/x-python",
   "name": "python",
   "nbconvert_exporter": "python",
   "pygments_lexer": "ipython3",
   "version": "3.6.3"
  }
 },
 "nbformat": 4,
 "nbformat_minor": 2
}
