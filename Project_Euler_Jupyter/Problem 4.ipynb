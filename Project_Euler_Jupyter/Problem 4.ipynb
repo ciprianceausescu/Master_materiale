{
 "cells": [
  {
   "cell_type": "markdown",
   "metadata": {},
   "source": [
    "# Solution"
   ]
  },
  {
   "cell_type": "code",
   "execution_count": 6,
   "metadata": {},
   "outputs": [
    {
     "name": "stdout",
     "output_type": "stream",
     "text": [
      "906609\n"
     ]
    }
   ],
   "source": [
    "def isPalindrome(n):\n",
    "    inv = 0\n",
    "    copy = n\n",
    "    while (n>0):\n",
    "        inv = inv * 10 + n % 10\n",
    "        n = n//10\n",
    "    return copy == inv\n",
    "\n",
    "def result():\n",
    "    maximum = 0\n",
    "    for i in range(999, 99, -1):\n",
    "        for j in range(999, 99, -1):\n",
    "            number = i * j\n",
    "            if(isPalindrome(number)):\n",
    "                if(maximum < number):\n",
    "                    maximum = number\n",
    "    return maximum\n",
    "\n",
    "print(result())"
   ]
  }
 ],
 "metadata": {
  "kernelspec": {
   "display_name": "Python 3",
   "language": "python",
   "name": "python3"
  },
  "language_info": {
   "codemirror_mode": {
    "name": "ipython",
    "version": 3
   },
   "file_extension": ".py",
   "mimetype": "text/x-python",
   "name": "python",
   "nbconvert_exporter": "python",
   "pygments_lexer": "ipython3",
   "version": "3.6.5"
  }
 },
 "nbformat": 4,
 "nbformat_minor": 2
}
