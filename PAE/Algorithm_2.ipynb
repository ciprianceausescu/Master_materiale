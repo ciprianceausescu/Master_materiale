{
 "cells": [
  {
   "cell_type": "markdown",
   "metadata": {},
   "source": [
    "# Parantezare - rezultat"
   ]
  },
  {
   "cell_type": "code",
   "execution_count": 6,
   "metadata": {},
   "outputs": [],
   "source": [
    "import argparse\n",
    "\n",
    "def test():\n",
    "    class MatrixChainMultiplier:\n",
    "        def __init__(self, dimensions):\n",
    "            assert len(dimensions) > 1\n",
    "            self.dimensions = dimensions\n",
    "            self.count = len(dimensions) - 1\n",
    "\n",
    "        def parenthesize(self):\n",
    "            return self.recursively_parenthesize(0, self.count - 1)\n",
    "\n",
    "        def recursively_parenthesize(self, start_matrix, end_matrix):\n",
    "            if end_matrix > start_matrix:\n",
    "                pivot = self.pivots[(start_matrix, end_matrix)]\n",
    "                left = self.recursively_parenthesize(start_matrix, pivot)\n",
    "                right = self.recursively_parenthesize(pivot + 1, end_matrix)\n",
    "                return \"(%s, %s)\" % (left, right)\n",
    "            else:\n",
    "                return str(start_matrix)\n",
    "\n",
    "        def calculate_costs(self):\n",
    "            self.costs = {}\n",
    "            self.pivots = {}\n",
    "            self.initialize_costs()\n",
    "\n",
    "            for length in range(2, self.count + 1): # length=2\n",
    "                for i in range(self.count - length + 1): # 2 - 2 + 1 = 1 -> i=0\n",
    "                    j = i + length - 1 # 0 + 2 - 1 = j=1\n",
    "                    for k in range(i, j): # j=1 -> k=0\n",
    "                        q = (self.costs[(i,k)] # (0,0) -> 0\n",
    "                             +  self.costs[(k+1, j)] # (1,1) -> 0\n",
    "                                +  self.multiply_cost(i, k+1, j+1)) # (0, 1, 2)\n",
    "                        if (i,j) not in self.costs or q < self.costs[(i,j)]:\n",
    "                            self.costs[(i,j)] = q\n",
    "                            self.pivots[(i,j)] = k\n",
    "\n",
    "        def initialize_costs(self):\n",
    "            for identity in [(i, i) for i in range(self.count)]:\n",
    "                self.costs[identity] = 0\n",
    "\n",
    "        def multiply_cost(self, left_index, inner_index, right_index):\n",
    "            left = self.dimensions[left_index]\n",
    "            inner = self.dimensions[inner_index]\n",
    "            right = self.dimensions[right_index]\n",
    "            return left * inner * right"
   ]
  },
  {
   "cell_type": "markdown",
   "metadata": {},
   "source": [
    "<img src=\"testimg3.JPG\">"
   ]
  },
  {
   "cell_type": "markdown",
   "metadata": {},
   "source": [
    "<img src=\"testimg1.JPG\">"
   ]
  },
  {
   "cell_type": "markdown",
   "metadata": {},
   "source": [
    "<img src=\"testimg2.JPG\">"
   ]
  }
 ],
 "metadata": {
  "kernelspec": {
   "display_name": "Python 3",
   "language": "python",
   "name": "python3"
  },
  "language_info": {
   "codemirror_mode": {
    "name": "ipython",
    "version": 3
   },
   "file_extension": ".py",
   "mimetype": "text/x-python",
   "name": "python",
   "nbconvert_exporter": "python",
   "pygments_lexer": "ipython3",
   "version": "3.6.3"
  }
 },
 "nbformat": 4,
 "nbformat_minor": 2
}
