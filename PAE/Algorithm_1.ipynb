{
 "cells": [
  {
   "cell_type": "markdown",
   "metadata": {},
   "source": [
    "# Matrix Chain Multiplication"
   ]
  },
  {
   "cell_type": "code",
   "execution_count": 21,
   "metadata": {
    "collapsed": true
   },
   "outputs": [],
   "source": [
    "# Dynamic Programming Python implementation of Matrix\n",
    "# Chain Multiplication. See the Cormen book for details\n",
    "# of the following algorithm\n",
    "import sys\n",
    "from pprint import pprint\n",
    "\n",
    "# Matrix Mi has dimension p[i-1] x p[i] for i = 1..n\n",
    "def MatrixChainOrder(p, n):\n",
    "\t# For simplicity of the program, one extra row and one\n",
    "\t# extra column are allocated in m[][]. 0th row and 0th\n",
    "\t# column of m[][] are not used\n",
    "\tm = [[0 for x in range(n)] for x in range(n)]\n",
    "\ts = [[0 for x in range(n)] for x in range(n)]\n",
    "\n",
    "\t# m[i,j] = Minimum number of scalar multiplications needed\n",
    "\t# to compute the matrix A[i]A[i+1]...A[j] = A[i..j] where\n",
    "\t# dimension of A[i] is p[i-1] x p[i]\n",
    "\n",
    "\t# cost is zero when multiplying one matrix.\n",
    "\tfor i in range(1, n):\n",
    "\t\tm[i][i] = 0\n",
    "\n",
    "\t# L is chain length.\n",
    "\tfor L in range(2, n):\n",
    "\t\tfor i in range(1, n-L+1):\n",
    "\t\t\tj = i+L-1\n",
    "\t\t\tm[i][j] = sys.maxsize\n",
    "\t\t\tfor k in range(i, j):\n",
    "\n",
    "\t\t\t\t# q = cost/scalar multiplications\n",
    "\t\t\t\tq = m[i][k] + m[k+1][j] + p[i-1]*p[k]*p[j]\n",
    "\t\t\t\tif q < m[i][j]:\n",
    "\t\t\t\t\tm[i][j] = q\n",
    "\t\t\t\t\ts[i][j] = k\n",
    "\n",
    "\treturn (m,s,m[1][n-1])\n",
    "\t#return m, s\n",
    "\n",
    "# Driver program to test above function\n",
    "def run(arr, ok):\n",
    "\tsize = len(arr)\n",
    "\t(m, s, min) = MatrixChainOrder(arr, size)\n",
    "\tif(ok):\n",
    "\t\tpprint(m)\n",
    "\t\tpprint(s)\n",
    "\tprint(\"Minimum number of multiplications is \" + str(min))\n"
   ]
  },
  {
   "cell_type": "code",
   "execution_count": 22,
   "metadata": {},
   "outputs": [
    {
     "name": "stdout",
     "output_type": "stream",
     "text": [
      "Minimum number of multiplications is 18\n"
     ]
    }
   ],
   "source": [
    "arr = [1, 2, 3, 4]\n",
    "run(arr, 0)"
   ]
  },
  {
   "cell_type": "code",
   "execution_count": 23,
   "metadata": {},
   "outputs": [
    {
     "name": "stdout",
     "output_type": "stream",
     "text": [
      "Minimum number of multiplications is 15125\n"
     ]
    }
   ],
   "source": [
    "arr = [30, 35, 15, 5, 10, 20, 25]\n",
    "run(arr, 0)"
   ]
  },
  {
   "cell_type": "code",
   "execution_count": 24,
   "metadata": {},
   "outputs": [
    {
     "name": "stdout",
     "output_type": "stream",
     "text": [
      "[[0, 0, 0, 0, 0],\n",
      " [0, 0, 5785, 1530, 2856],\n",
      " [0, 0, 0, 1335, 1845],\n",
      " [0, 0, 0, 0, 9078],\n",
      " [0, 0, 0, 0, 0]]\n",
      "[[0, 0, 0, 0, 0],\n",
      " [0, 0, 1, 1, 3],\n",
      " [0, 0, 0, 2, 3],\n",
      " [0, 0, 0, 0, 3],\n",
      " [0, 0, 0, 0, 0]]\n",
      "Minimum number of multiplications is 2856\n"
     ]
    }
   ],
   "source": [
    "arr = [13, 5, 89, 3, 34]\n",
    "run(arr, 1)"
   ]
  }
 ],
 "metadata": {
  "kernelspec": {
   "display_name": "Python 3",
   "language": "python",
   "name": "python3"
  },
  "language_info": {
   "codemirror_mode": {
    "name": "ipython",
    "version": 3
   },
   "file_extension": ".py",
   "mimetype": "text/x-python",
   "name": "python",
   "nbconvert_exporter": "python",
   "pygments_lexer": "ipython3",
   "version": "3.6.5"
  }
 },
 "nbformat": 4,
 "nbformat_minor": 2
}
